{
 "cells": [
  {
   "cell_type": "markdown",
   "id": "a8f02446",
   "metadata": {},
   "source": [
    "# A program to numbers in words\n",
    "\n",
    "The function __num_to_words__ returns a _four digit postive numbers (or less)_ in words.\n"
   ]
  },
  {
   "cell_type": "markdown",
   "id": "7f214436",
   "metadata": {},
   "source": [
    "Create the dataset of differnt values depending on the position of digit in a number"
   ]
  },
  {
   "cell_type": "code",
   "execution_count": 18,
   "id": "153c3a13",
   "metadata": {},
   "outputs": [],
   "source": [
    "# for one digit\n",
    "ones = ['', 'one', 'two', 'three', 'four', 'five', 'six', 'seven', 'eight', 'nine']\n",
    "zero = \"zero\"\n",
    "\n",
    "# two digits\n",
    "teens = ['ten', 'eleven', 'twelve', 'thirteen', 'fourteen', 'fifteen', 'sixteen', 'seventeen', 'eighteen', 'nineteen']\n",
    "tyies = ['', '', 'twenty', 'thirty', 'forty', 'fifty', 'sixty', 'seventy', 'eighty', 'ninety']\n",
    "\n",
    "# dictionary to define place values\n",
    "places = {3: \"hundred\", 4: \"thousand\"}"
   ]
  },
  {
   "cell_type": "markdown",
   "id": "044b68af",
   "metadata": {},
   "source": [
    "A subroutine that takes the number and converts into words. Checks if the number is not zero and positive.\\\n",
    "Returns a string which is either a number in words or a message if conditions are not met.\n",
    "It calls __recursive_number_to_words__ subroutine."
   ]
  },
  {
   "cell_type": "code",
   "execution_count": 19,
   "id": "6a5f2a6d",
   "metadata": {},
   "outputs": [],
   "source": [
    "def num_to_words(number):\n",
    "    # if number is zero\n",
    "    if number == 0:\n",
    "        return zero\n",
    "    # if number is negative\n",
    "    if number < 0:\n",
    "        return \"Supply a positive number\"\n",
    "\n",
    "    num_list = [int(x) for x in str(number)]  # convert number to a list of digits\n",
    "\n",
    "    if len(num_list) > 4:\n",
    "        return \"Number too long, supply a 4-digit number or less\"\n",
    "    word = recursive_number_to_words(num_list)\n",
    "    return word.strip()"
   ]
  },
  {
   "cell_type": "markdown",
   "id": "46c06b4e",
   "metadata": {},
   "source": [
    "Recursive function to convert the array of digits into words. __num_list__ argument is a list of digits.\n",
    "If number was 1234 then the __num_list__ argument is `[1,2,3,4]`\n",
    "\n",
    "This function calls another subroutine __smaller_numbers__ to return in words a _two digit (or less)_ numbers."
   ]
  },
  {
   "cell_type": "code",
   "execution_count": 20,
   "id": "4dc47062",
   "metadata": {},
   "outputs": [],
   "source": [
    "def recursive_number_to_words(num_list):\n",
    "    word = \"\"\n",
    "\n",
    "    if len(num_list) <= 2:\n",
    "        return smaller_numbers(num_list)\n",
    "\n",
    "    current_len = len(num_list)  # defines the size of number i.e 4-digit,3-digit number\n",
    "    current_val = num_list[0]  # current digit\n",
    "    next_val = num_list[1]  # next digit\n",
    "\n",
    "    place_val = places.get(current_len)\n",
    "    new_num_list = []  # modify the current digit list to get next values in a recursive manner\n",
    "\n",
    "    # digit value depending if next digit is a 0 or not\n",
    "    digit_val = \"\"  # place value of digit\n",
    "\n",
    "    # when the hundred's place has 0 in a 4-digit number\n",
    "    if next_val == 0 and current_len == 4:\n",
    "        digit_val = ones[current_val]\n",
    "        new_num_list = num_list[2:]  # remove the hundred's place digit as it is a zero\n",
    "\n",
    "    else:\n",
    "        digit_val = ones[current_val]\n",
    "        new_num_list = num_list[1:]\n",
    "\n",
    "    word += digit_val + \" \" + place_val + \" \"\n",
    "    return word + recursive_number_to_words(new_num_list).strip()"
   ]
  },
  {
   "cell_type": "markdown",
   "id": "4d994009",
   "metadata": {},
   "source": [
    "A helper subroutine that is called in above __recursive_number_to_words__ function when the number of digts left are 2.\n",
    "The __num_list__ is a list of integers, its size is always less than or equal to two. \n",
    "If number was _12_ then the __num_list__ is `[1,2]`"
   ]
  },
  {
   "cell_type": "code",
   "execution_count": 21,
   "id": "6f00cdf2",
   "metadata": {},
   "outputs": [],
   "source": [
    "def smaller_numbers(num_list):\n",
    "    word = \"\"\n",
    "    \n",
    "    # if first item in list is 0\n",
    "    if num_list[0] == 0 :\n",
    "        # if second item is also 0, then the digits are 00 so return an empty string\n",
    "        if num_list[1] == 0:\n",
    "            return word\n",
    "        else:\n",
    "            return ones[num_list[1]]\n",
    "\n",
    "    # deal with one-digit numbers\n",
    "    if len(num_list) == 1:\n",
    "        word += ones[num_list[0]]\n",
    "\n",
    "    else:\n",
    "        # two digit numbers greater than nineteen\n",
    "        if num_list[0] >= 2:\n",
    "            word += tyies[num_list[0]] + \" \"\n",
    "            word += ones[num_list[1]]\n",
    "\n",
    "        # two-digit numbers less than nineteen\n",
    "        else:\n",
    "            word += teens[num_list[1]]\n",
    "\n",
    "    return word.strip()\n"
   ]
  },
  {
   "cell_type": "markdown",
   "id": "32e7b625",
   "metadata": {},
   "source": [
    "Get user input and convert to a number.\n",
    "If input is __'exit'__ then exit the function"
   ]
  },
  {
   "cell_type": "code",
   "execution_count": 22,
   "id": "54ed7781",
   "metadata": {},
   "outputs": [
    {
     "name": "stdout",
     "output_type": "stream",
     "text": [
      "Enter a number, enter 'exit' to exit : exit\n"
     ]
    }
   ],
   "source": [
    "while True:\n",
    "    number = input(\"Enter a number, enter 'exit' to exit : \")\n",
    "    if number == 'exit':\n",
    "        break\n",
    "\n",
    "    if number.isnumeric():\n",
    "        print(num_to_words(int(number)))"
   ]
  },
  {
   "cell_type": "code",
   "execution_count": null,
   "id": "880bbe6b",
   "metadata": {},
   "outputs": [],
   "source": []
  }
 ],
 "metadata": {
  "kernelspec": {
   "display_name": "Python 3 (ipykernel)",
   "language": "python",
   "name": "python3"
  },
  "language_info": {
   "codemirror_mode": {
    "name": "ipython",
    "version": 3
   },
   "file_extension": ".py",
   "mimetype": "text/x-python",
   "name": "python",
   "nbconvert_exporter": "python",
   "pygments_lexer": "ipython3",
   "version": "3.7.13"
  }
 },
 "nbformat": 4,
 "nbformat_minor": 5
}
